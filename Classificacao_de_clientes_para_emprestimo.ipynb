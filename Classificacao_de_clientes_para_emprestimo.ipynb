{
 "cells": [
  {
   "cell_type": "markdown",
   "id": "497954d7",
   "metadata": {},
   "source": [
    "### The aim of this script is to classify defaulting customers based on 17 observations. I made a local database connection, performed data processing, and created 5 classification models. The best model achieved 67.67% accuracy [using Naive Bayes].\n",
    "\n",
    "\n",
    "### O objetivo é fazer uma classificação de clientes inadimplentes com base em 17 observações. Foi feita a conexão com o banco em que os dados estão alocados. Em seguida o tratamento de dados e a criação de modelos de classificação. O melhor modelo atingiu 67.67 % [Naive bayes]."
   ]
  },
  {
   "cell_type": "markdown",
   "id": "3d5eda59",
   "metadata": {},
   "source": [
    "#### Bibliotecas utilizadas"
   ]
  },
  {
   "cell_type": "code",
   "execution_count": 110,
   "id": "e65fc51b",
   "metadata": {},
   "outputs": [],
   "source": [
    "import pandas as pd\n",
    "import numpy as np\n",
    "import matplotlib.pyplot as plt\n",
    "from sklearn.preprocessing import LabelEncoder\n",
    "from sklearn.model_selection import train_test_split\n",
    "from sklearn.naive_bayes import GaussianNB\n",
    "from sklearn.metrics import confusion_matrix, accuracy_score\n",
    "from yellowbrick.classifier import ConfusionMatrix\n",
    "import psycopg2"
   ]
  },
  {
   "cell_type": "markdown",
   "id": "36ea575c",
   "metadata": {},
   "source": [
    "#### Caso fosse preciso usar LabelEnconder\n",
    "###### Os dados qualitativos já estavam em formato numérico"
   ]
  },
  {
   "cell_type": "code",
   "execution_count": 111,
   "id": "70fb8c5e",
   "metadata": {},
   "outputs": [],
   "source": [
    "# Colunas que precisam de LabelEnconder\n",
    "#colunasEnconder = [1,2,3,4,6,7,8,11,13]\n",
    "#encoders = {}\n",
    "# Gerando LabelEncoders\n",
    "#for coluna in colunasEnconder:\n",
    "#    encoders[coluna] = LabelEncoder()\n",
    "#    previsores[:,coluna] = encoders[coluna].fit_transform(previsores[:,coluna])"
   ]
  },
  {
   "cell_type": "markdown",
   "id": "b47c924b",
   "metadata": {},
   "source": [
    "#### Conexão e leitura de dados do banco local PostgreSQL"
   ]
  },
  {
   "cell_type": "code",
   "execution_count": 112,
   "id": "b1e6f379",
   "metadata": {
    "scrolled": true
   },
   "outputs": [],
   "source": [
    "conn = psycopg2.connect(\n",
    "    host=\"localhost\",\n",
    "    port=\"5432\",\n",
    "    database=\"ProjetoFinal\",\n",
    "    user=\"postgres\",\n",
    "    password=\"admin\"\n",
    ")"
   ]
  },
  {
   "cell_type": "code",
   "execution_count": 113,
   "id": "773701d4",
   "metadata": {},
   "outputs": [],
   "source": [
    "cursor = conn.cursor()"
   ]
  },
  {
   "cell_type": "code",
   "execution_count": 114,
   "id": "79953ca2",
   "metadata": {},
   "outputs": [],
   "source": [
    "query = 'SELECT * FROM \"CREDITO\";'"
   ]
  },
  {
   "cell_type": "code",
   "execution_count": 115,
   "id": "e6ba3ac7",
   "metadata": {},
   "outputs": [],
   "source": [
    "cursor.execute(query)"
   ]
  },
  {
   "cell_type": "code",
   "execution_count": 116,
   "id": "e9e00b87",
   "metadata": {},
   "outputs": [],
   "source": [
    "results = cursor.fetchall()\n",
    "dados = pd.DataFrame(results)"
   ]
  },
  {
   "cell_type": "code",
   "execution_count": 117,
   "id": "f7704944",
   "metadata": {},
   "outputs": [],
   "source": [
    "query = \"\"\"SELECT column_name FROM information_schema.columns WHERE table_schema = 'public' AND table_name = 'CREDITO';\"\"\""
   ]
  },
  {
   "cell_type": "code",
   "execution_count": 118,
   "id": "4086f91b",
   "metadata": {},
   "outputs": [],
   "source": [
    "cursor.execute(query)"
   ]
  },
  {
   "cell_type": "code",
   "execution_count": 119,
   "id": "8958489d",
   "metadata": {},
   "outputs": [],
   "source": [
    "results = cursor.fetchall()\n",
    "rotulos = np.array(results)"
   ]
  },
  {
   "cell_type": "code",
   "execution_count": 120,
   "id": "83098da7",
   "metadata": {},
   "outputs": [],
   "source": [
    "cursor.close()\n",
    "conn.close()"
   ]
  },
  {
   "cell_type": "code",
   "execution_count": 121,
   "id": "21eda42a",
   "metadata": {},
   "outputs": [],
   "source": [
    "dados.columns = rotulos[:,0]"
   ]
  },
  {
   "cell_type": "code",
   "execution_count": 122,
   "id": "7657703f",
   "metadata": {},
   "outputs": [
    {
     "data": {
      "text/html": [
       "<div>\n",
       "<style scoped>\n",
       "    .dataframe tbody tr th:only-of-type {\n",
       "        vertical-align: middle;\n",
       "    }\n",
       "\n",
       "    .dataframe tbody tr th {\n",
       "        vertical-align: top;\n",
       "    }\n",
       "\n",
       "    .dataframe thead th {\n",
       "        text-align: right;\n",
       "    }\n",
       "</style>\n",
       "<table border=\"1\" class=\"dataframe\">\n",
       "  <thead>\n",
       "    <tr style=\"text-align: right;\">\n",
       "      <th></th>\n",
       "      <th>IDCREDITO</th>\n",
       "      <th>Duracao</th>\n",
       "      <th>HistoricoCredito</th>\n",
       "      <th>Proposito</th>\n",
       "      <th>Valor</th>\n",
       "      <th>Investimentos</th>\n",
       "      <th>Emprego</th>\n",
       "      <th>TempoParcelamento</th>\n",
       "      <th>EstadoCivil</th>\n",
       "      <th>FiadorTerceiros</th>\n",
       "      <th>ResidenciaDesde</th>\n",
       "      <th>Idade</th>\n",
       "      <th>OutrosFinanciamentos</th>\n",
       "      <th>Habitacao</th>\n",
       "      <th>EmprestimoExistente</th>\n",
       "      <th>Profissao</th>\n",
       "      <th>Dependentes</th>\n",
       "      <th>SocioEmpresa</th>\n",
       "      <th>Estrangeiro</th>\n",
       "      <th>Status</th>\n",
       "    </tr>\n",
       "  </thead>\n",
       "  <tbody>\n",
       "    <tr>\n",
       "      <th>0</th>\n",
       "      <td>2</td>\n",
       "      <td>48</td>\n",
       "      <td>2</td>\n",
       "      <td>1</td>\n",
       "      <td>5951</td>\n",
       "      <td>2</td>\n",
       "      <td>3.0</td>\n",
       "      <td>2</td>\n",
       "      <td>1</td>\n",
       "      <td>3</td>\n",
       "      <td>2.0</td>\n",
       "      <td>22</td>\n",
       "      <td>3</td>\n",
       "      <td>1.0</td>\n",
       "      <td>1</td>\n",
       "      <td>4</td>\n",
       "      <td>1</td>\n",
       "      <td>0</td>\n",
       "      <td>0</td>\n",
       "      <td>0</td>\n",
       "    </tr>\n",
       "    <tr>\n",
       "      <th>1</th>\n",
       "      <td>3</td>\n",
       "      <td>12</td>\n",
       "      <td>1</td>\n",
       "      <td>2</td>\n",
       "      <td>2096</td>\n",
       "      <td>2</td>\n",
       "      <td>4.0</td>\n",
       "      <td>2</td>\n",
       "      <td>4</td>\n",
       "      <td>3</td>\n",
       "      <td>3.0</td>\n",
       "      <td>49</td>\n",
       "      <td>3</td>\n",
       "      <td>1.0</td>\n",
       "      <td>1</td>\n",
       "      <td>3</td>\n",
       "      <td>2</td>\n",
       "      <td>0</td>\n",
       "      <td>0</td>\n",
       "      <td>1</td>\n",
       "    </tr>\n",
       "    <tr>\n",
       "      <th>2</th>\n",
       "      <td>4</td>\n",
       "      <td>42</td>\n",
       "      <td>2</td>\n",
       "      <td>3</td>\n",
       "      <td>7882</td>\n",
       "      <td>2</td>\n",
       "      <td>4.0</td>\n",
       "      <td>2</td>\n",
       "      <td>4</td>\n",
       "      <td>4</td>\n",
       "      <td>4.0</td>\n",
       "      <td>45</td>\n",
       "      <td>3</td>\n",
       "      <td>2.0</td>\n",
       "      <td>1</td>\n",
       "      <td>4</td>\n",
       "      <td>2</td>\n",
       "      <td>0</td>\n",
       "      <td>0</td>\n",
       "      <td>1</td>\n",
       "    </tr>\n",
       "    <tr>\n",
       "      <th>3</th>\n",
       "      <td>5</td>\n",
       "      <td>24</td>\n",
       "      <td>3</td>\n",
       "      <td>4</td>\n",
       "      <td>4870</td>\n",
       "      <td>2</td>\n",
       "      <td>3.0</td>\n",
       "      <td>3</td>\n",
       "      <td>4</td>\n",
       "      <td>3</td>\n",
       "      <td>4.0</td>\n",
       "      <td>53</td>\n",
       "      <td>3</td>\n",
       "      <td>2.0</td>\n",
       "      <td>2</td>\n",
       "      <td>4</td>\n",
       "      <td>2</td>\n",
       "      <td>0</td>\n",
       "      <td>0</td>\n",
       "      <td>0</td>\n",
       "    </tr>\n",
       "    <tr>\n",
       "      <th>4</th>\n",
       "      <td>6</td>\n",
       "      <td>36</td>\n",
       "      <td>2</td>\n",
       "      <td>2</td>\n",
       "      <td>9055</td>\n",
       "      <td>1</td>\n",
       "      <td>3.0</td>\n",
       "      <td>2</td>\n",
       "      <td>4</td>\n",
       "      <td>3</td>\n",
       "      <td>4.0</td>\n",
       "      <td>35</td>\n",
       "      <td>3</td>\n",
       "      <td>2.0</td>\n",
       "      <td>1</td>\n",
       "      <td>3</td>\n",
       "      <td>2</td>\n",
       "      <td>1</td>\n",
       "      <td>0</td>\n",
       "      <td>1</td>\n",
       "    </tr>\n",
       "  </tbody>\n",
       "</table>\n",
       "</div>"
      ],
      "text/plain": [
       "   IDCREDITO  Duracao  HistoricoCredito  Proposito  Valor  Investimentos  \\\n",
       "0          2       48                 2          1   5951              2   \n",
       "1          3       12                 1          2   2096              2   \n",
       "2          4       42                 2          3   7882              2   \n",
       "3          5       24                 3          4   4870              2   \n",
       "4          6       36                 2          2   9055              1   \n",
       "\n",
       "   Emprego  TempoParcelamento  EstadoCivil  FiadorTerceiros  ResidenciaDesde  \\\n",
       "0      3.0                  2            1                3              2.0   \n",
       "1      4.0                  2            4                3              3.0   \n",
       "2      4.0                  2            4                4              4.0   \n",
       "3      3.0                  3            4                3              4.0   \n",
       "4      3.0                  2            4                3              4.0   \n",
       "\n",
       "   Idade  OutrosFinanciamentos  Habitacao  EmprestimoExistente  Profissao  \\\n",
       "0     22                     3        1.0                    1          4   \n",
       "1     49                     3        1.0                    1          3   \n",
       "2     45                     3        2.0                    1          4   \n",
       "3     53                     3        2.0                    2          4   \n",
       "4     35                     3        2.0                    1          3   \n",
       "\n",
       "   Dependentes  SocioEmpresa  Estrangeiro  Status  \n",
       "0            1             0            0       0  \n",
       "1            2             0            0       1  \n",
       "2            2             0            0       1  \n",
       "3            2             0            0       0  \n",
       "4            2             1            0       1  "
      ]
     },
     "execution_count": 122,
     "metadata": {},
     "output_type": "execute_result"
    }
   ],
   "source": [
    "dados.head()"
   ]
  },
  {
   "cell_type": "markdown",
   "id": "14de10ec",
   "metadata": {},
   "source": [
    "#### Início do tratamento de dados - Remoção e NAs e valores incompatíveis, outliers, etc."
   ]
  },
  {
   "cell_type": "code",
   "execution_count": 123,
   "id": "19964e51",
   "metadata": {},
   "outputs": [
    {
     "data": {
      "text/plain": [
       "2    526\n",
       "1    289\n",
       "3     86\n",
       "5     48\n",
       "4     40\n",
       "0     11\n",
       "Name: HistoricoCredito, dtype: int64"
      ]
     },
     "execution_count": 123,
     "metadata": {},
     "output_type": "execute_result"
    }
   ],
   "source": [
    "dados['HistoricoCredito'].value_counts(dropna=False)"
   ]
  },
  {
   "cell_type": "code",
   "execution_count": 124,
   "id": "261d2d2b",
   "metadata": {},
   "outputs": [
    {
     "data": {
      "text/plain": [
       "1     280\n",
       "4     234\n",
       "3     181\n",
       "5     103\n",
       "6      97\n",
       "2      50\n",
       "8      22\n",
       "7      12\n",
       "9      12\n",
       "10      9\n",
       "Name: Proposito, dtype: int64"
      ]
     },
     "execution_count": 124,
     "metadata": {},
     "output_type": "execute_result"
    }
   ],
   "source": [
    "dados['Proposito'].value_counts(dropna=False)"
   ]
  },
  {
   "cell_type": "code",
   "execution_count": 125,
   "id": "278a8234",
   "metadata": {},
   "outputs": [
    {
     "data": {
      "text/plain": [
       "2    603\n",
       "1    183\n",
       "5    103\n",
       "3     63\n",
       "4     48\n",
       "Name: Investimentos, dtype: int64"
      ]
     },
     "execution_count": 125,
     "metadata": {},
     "output_type": "execute_result"
    }
   ],
   "source": [
    "dados['Investimentos'].value_counts(dropna=False)"
   ]
  },
  {
   "cell_type": "code",
   "execution_count": 126,
   "id": "5dea4e6f",
   "metadata": {},
   "outputs": [
    {
     "data": {
      "text/plain": [
       "3.0    338\n",
       "2.0    247\n",
       "4.0    172\n",
       "1.0    171\n",
       "5.0     62\n",
       "NaN     10\n",
       "Name: Emprego, dtype: int64"
      ]
     },
     "execution_count": 126,
     "metadata": {},
     "output_type": "execute_result"
    }
   ],
   "source": [
    "dados['Emprego'].value_counts(dropna=False)"
   ]
  },
  {
   "cell_type": "code",
   "execution_count": 127,
   "id": "42566783",
   "metadata": {},
   "outputs": [
    {
     "data": {
      "text/plain": [
       "4    476\n",
       "2    231\n",
       "3    157\n",
       "1    136\n",
       "Name: TempoParcelamento, dtype: int64"
      ]
     },
     "execution_count": 127,
     "metadata": {},
     "output_type": "execute_result"
    }
   ],
   "source": [
    "dados['TempoParcelamento'].value_counts(dropna=False)"
   ]
  },
  {
   "cell_type": "code",
   "execution_count": 128,
   "id": "588f1938",
   "metadata": {},
   "outputs": [
    {
     "data": {
      "text/plain": [
       "4    548\n",
       "1    310\n",
       "3     92\n",
       "2     50\n",
       "Name: EstadoCivil, dtype: int64"
      ]
     },
     "execution_count": 128,
     "metadata": {},
     "output_type": "execute_result"
    }
   ],
   "source": [
    "dados['EstadoCivil'].value_counts(dropna=False)"
   ]
  },
  {
   "cell_type": "code",
   "execution_count": 129,
   "id": "d0f81a5e",
   "metadata": {},
   "outputs": [
    {
     "data": {
      "text/plain": [
       "3    908\n",
       "4     52\n",
       "2     39\n",
       "1      1\n",
       "Name: FiadorTerceiros, dtype: int64"
      ]
     },
     "execution_count": 129,
     "metadata": {},
     "output_type": "execute_result"
    }
   ],
   "source": [
    "dados['FiadorTerceiros'].value_counts(dropna=False)"
   ]
  },
  {
   "cell_type": "code",
   "execution_count": 130,
   "id": "f129fd1e",
   "metadata": {},
   "outputs": [
    {
     "data": {
      "text/plain": [
       "4.0    409\n",
       "2.0    308\n",
       "3.0    147\n",
       "1.0    129\n",
       "NaN      7\n",
       "Name: ResidenciaDesde, dtype: int64"
      ]
     },
     "execution_count": 130,
     "metadata": {},
     "output_type": "execute_result"
    }
   ],
   "source": [
    "dados['ResidenciaDesde'].value_counts(dropna=False)"
   ]
  },
  {
   "cell_type": "code",
   "execution_count": 131,
   "id": "719a6e3d",
   "metadata": {},
   "outputs": [
    {
     "data": {
      "text/plain": [
       "27    51\n",
       "26    50\n",
       "23    48\n",
       "24    44\n",
       "28    43\n",
       "25    41\n",
       "35    40\n",
       "30    40\n",
       "36    39\n",
       "31    38\n",
       "29    37\n",
       "32    34\n",
       "33    33\n",
       "34    32\n",
       "37    29\n",
       "22    27\n",
       "40    25\n",
       "38    24\n",
       "42    22\n",
       "39    21\n",
       "46    18\n",
       "41    17\n",
       "44    17\n",
       "43    17\n",
       "47    17\n",
       "45    15\n",
       "20    14\n",
       "21    14\n",
       "49    14\n",
       "48    12\n",
       "50    12\n",
       "54    10\n",
       "52     9\n",
       "57     9\n",
       "51     8\n",
       "55     8\n",
       "63     8\n",
       "53     7\n",
       "61     7\n",
       "60     6\n",
       "66     5\n",
       "64     5\n",
       "65     5\n",
       "58     5\n",
       "74     4\n",
       "68     3\n",
       "67     3\n",
       "56     3\n",
       "59     3\n",
       "75     2\n",
       "19     2\n",
       "62     2\n",
       "70     1\n",
       "Name: Idade, dtype: int64"
      ]
     },
     "execution_count": 131,
     "metadata": {},
     "output_type": "execute_result"
    }
   ],
   "source": [
    "dados['Idade'].value_counts(dropna=False)"
   ]
  },
  {
   "cell_type": "code",
   "execution_count": 132,
   "id": "b467111f",
   "metadata": {},
   "outputs": [
    {
     "data": {
      "text/plain": [
       "3    814\n",
       "1    139\n",
       "2     47\n",
       "Name: OutrosFinanciamentos, dtype: int64"
      ]
     },
     "execution_count": 132,
     "metadata": {},
     "output_type": "execute_result"
    }
   ],
   "source": [
    "dados['OutrosFinanciamentos'].value_counts(dropna=False)"
   ]
  },
  {
   "cell_type": "code",
   "execution_count": 133,
   "id": "fbcef2fe",
   "metadata": {},
   "outputs": [
    {
     "data": {
      "text/plain": [
       "1.0    709\n",
       "3.0    175\n",
       "2.0    107\n",
       "NaN      9\n",
       "Name: Habitacao, dtype: int64"
      ]
     },
     "execution_count": 133,
     "metadata": {},
     "output_type": "execute_result"
    }
   ],
   "source": [
    "dados['Habitacao'].value_counts(dropna=False)"
   ]
  },
  {
   "cell_type": "code",
   "execution_count": 134,
   "id": "5909c8a4",
   "metadata": {},
   "outputs": [
    {
     "data": {
      "text/plain": [
       "1    633\n",
       "2    333\n",
       "3     28\n",
       "4      6\n",
       "Name: EmprestimoExistente, dtype: int64"
      ]
     },
     "execution_count": 134,
     "metadata": {},
     "output_type": "execute_result"
    }
   ],
   "source": [
    "dados['EmprestimoExistente'].value_counts(dropna=False)"
   ]
  },
  {
   "cell_type": "code",
   "execution_count": 135,
   "id": "4fa32a0f",
   "metadata": {},
   "outputs": [
    {
     "data": {
      "text/plain": [
       "4      625\n",
       "3      197\n",
       "1      147\n",
       "2       22\n",
       "999      9\n",
       "Name: Profissao, dtype: int64"
      ]
     },
     "execution_count": 135,
     "metadata": {},
     "output_type": "execute_result"
    }
   ],
   "source": [
    "dados['Profissao'].value_counts(dropna=False)"
   ]
  },
  {
   "cell_type": "code",
   "execution_count": 136,
   "id": "2a2c6ea6",
   "metadata": {},
   "outputs": [
    {
     "data": {
      "text/plain": [
       "1    845\n",
       "2    155\n",
       "Name: Dependentes, dtype: int64"
      ]
     },
     "execution_count": 136,
     "metadata": {},
     "output_type": "execute_result"
    }
   ],
   "source": [
    "dados['Dependentes'].value_counts(dropna=False)"
   ]
  },
  {
   "cell_type": "code",
   "execution_count": 137,
   "id": "d910fb62",
   "metadata": {},
   "outputs": [
    {
     "data": {
      "text/plain": [
       "0    596\n",
       "1    404\n",
       "Name: SocioEmpresa, dtype: int64"
      ]
     },
     "execution_count": 137,
     "metadata": {},
     "output_type": "execute_result"
    }
   ],
   "source": [
    "dados['SocioEmpresa'].value_counts(dropna=False)"
   ]
  },
  {
   "cell_type": "code",
   "execution_count": 138,
   "id": "c1ef7b48",
   "metadata": {},
   "outputs": [
    {
     "data": {
      "text/plain": [
       "0    963\n",
       "1     37\n",
       "Name: Estrangeiro, dtype: int64"
      ]
     },
     "execution_count": 138,
     "metadata": {},
     "output_type": "execute_result"
    }
   ],
   "source": [
    "dados['Estrangeiro'].value_counts(dropna=False)"
   ]
  },
  {
   "cell_type": "code",
   "execution_count": 139,
   "id": "d9818e3f",
   "metadata": {},
   "outputs": [
    {
     "data": {
      "text/plain": [
       "1    700\n",
       "0    300\n",
       "Name: Status, dtype: int64"
      ]
     },
     "execution_count": 139,
     "metadata": {},
     "output_type": "execute_result"
    }
   ],
   "source": [
    "dados['Status'].value_counts(dropna=False)"
   ]
  },
  {
   "cell_type": "markdown",
   "id": "bcc0ae30",
   "metadata": {},
   "source": [
    "#### Tratamento de dados em: Emprego, ResidenciaDesde, Habitacao, Profissao"
   ]
  },
  {
   "cell_type": "code",
   "execution_count": 140,
   "id": "b7f1fd86",
   "metadata": {
    "scrolled": true
   },
   "outputs": [
    {
     "data": {
      "text/html": [
       "<div>\n",
       "<style scoped>\n",
       "    .dataframe tbody tr th:only-of-type {\n",
       "        vertical-align: middle;\n",
       "    }\n",
       "\n",
       "    .dataframe tbody tr th {\n",
       "        vertical-align: top;\n",
       "    }\n",
       "\n",
       "    .dataframe thead th {\n",
       "        text-align: right;\n",
       "    }\n",
       "</style>\n",
       "<table border=\"1\" class=\"dataframe\">\n",
       "  <thead>\n",
       "    <tr style=\"text-align: right;\">\n",
       "      <th></th>\n",
       "      <th>IDCREDITO</th>\n",
       "      <th>Duracao</th>\n",
       "      <th>HistoricoCredito</th>\n",
       "      <th>Proposito</th>\n",
       "      <th>Valor</th>\n",
       "      <th>Investimentos</th>\n",
       "      <th>Emprego</th>\n",
       "      <th>TempoParcelamento</th>\n",
       "      <th>EstadoCivil</th>\n",
       "      <th>FiadorTerceiros</th>\n",
       "      <th>ResidenciaDesde</th>\n",
       "      <th>Idade</th>\n",
       "      <th>OutrosFinanciamentos</th>\n",
       "      <th>Habitacao</th>\n",
       "      <th>EmprestimoExistente</th>\n",
       "      <th>Profissao</th>\n",
       "      <th>Dependentes</th>\n",
       "      <th>SocioEmpresa</th>\n",
       "      <th>Estrangeiro</th>\n",
       "      <th>Status</th>\n",
       "    </tr>\n",
       "  </thead>\n",
       "  <tbody>\n",
       "    <tr>\n",
       "      <th>64</th>\n",
       "      <td>1</td>\n",
       "      <td>6</td>\n",
       "      <td>0</td>\n",
       "      <td>1</td>\n",
       "      <td>1169</td>\n",
       "      <td>1</td>\n",
       "      <td>NaN</td>\n",
       "      <td>4</td>\n",
       "      <td>4</td>\n",
       "      <td>3</td>\n",
       "      <td>4.0</td>\n",
       "      <td>67</td>\n",
       "      <td>3</td>\n",
       "      <td>1.0</td>\n",
       "      <td>2</td>\n",
       "      <td>4</td>\n",
       "      <td>1</td>\n",
       "      <td>1</td>\n",
       "      <td>0</td>\n",
       "      <td>1</td>\n",
       "    </tr>\n",
       "    <tr>\n",
       "      <th>134</th>\n",
       "      <td>78</td>\n",
       "      <td>11</td>\n",
       "      <td>3</td>\n",
       "      <td>1</td>\n",
       "      <td>4771</td>\n",
       "      <td>2</td>\n",
       "      <td>NaN</td>\n",
       "      <td>2</td>\n",
       "      <td>4</td>\n",
       "      <td>3</td>\n",
       "      <td>4.0</td>\n",
       "      <td>51</td>\n",
       "      <td>3</td>\n",
       "      <td>1.0</td>\n",
       "      <td>1</td>\n",
       "      <td>4</td>\n",
       "      <td>1</td>\n",
       "      <td>0</td>\n",
       "      <td>0</td>\n",
       "      <td>1</td>\n",
       "    </tr>\n",
       "    <tr>\n",
       "      <th>201</th>\n",
       "      <td>145</td>\n",
       "      <td>21</td>\n",
       "      <td>1</td>\n",
       "      <td>3</td>\n",
       "      <td>2288</td>\n",
       "      <td>2</td>\n",
       "      <td>NaN</td>\n",
       "      <td>4</td>\n",
       "      <td>1</td>\n",
       "      <td>3</td>\n",
       "      <td>4.0</td>\n",
       "      <td>23</td>\n",
       "      <td>3</td>\n",
       "      <td>NaN</td>\n",
       "      <td>1</td>\n",
       "      <td>4</td>\n",
       "      <td>1</td>\n",
       "      <td>1</td>\n",
       "      <td>0</td>\n",
       "      <td>1</td>\n",
       "    </tr>\n",
       "    <tr>\n",
       "      <th>983</th>\n",
       "      <td>960</td>\n",
       "      <td>24</td>\n",
       "      <td>2</td>\n",
       "      <td>3</td>\n",
       "      <td>3069</td>\n",
       "      <td>5</td>\n",
       "      <td>NaN</td>\n",
       "      <td>4</td>\n",
       "      <td>4</td>\n",
       "      <td>3</td>\n",
       "      <td>NaN</td>\n",
       "      <td>30</td>\n",
       "      <td>3</td>\n",
       "      <td>2.0</td>\n",
       "      <td>1</td>\n",
       "      <td>4</td>\n",
       "      <td>1</td>\n",
       "      <td>0</td>\n",
       "      <td>0</td>\n",
       "      <td>1</td>\n",
       "    </tr>\n",
       "    <tr>\n",
       "      <th>984</th>\n",
       "      <td>56</td>\n",
       "      <td>6</td>\n",
       "      <td>5</td>\n",
       "      <td>4</td>\n",
       "      <td>783</td>\n",
       "      <td>1</td>\n",
       "      <td>NaN</td>\n",
       "      <td>1</td>\n",
       "      <td>4</td>\n",
       "      <td>4</td>\n",
       "      <td>2.0</td>\n",
       "      <td>26</td>\n",
       "      <td>2</td>\n",
       "      <td>1.0</td>\n",
       "      <td>1</td>\n",
       "      <td>3</td>\n",
       "      <td>2</td>\n",
       "      <td>0</td>\n",
       "      <td>0</td>\n",
       "      <td>1</td>\n",
       "    </tr>\n",
       "    <tr>\n",
       "      <th>985</th>\n",
       "      <td>270</td>\n",
       "      <td>24</td>\n",
       "      <td>2</td>\n",
       "      <td>1</td>\n",
       "      <td>999</td>\n",
       "      <td>1</td>\n",
       "      <td>NaN</td>\n",
       "      <td>4</td>\n",
       "      <td>4</td>\n",
       "      <td>3</td>\n",
       "      <td>2.0</td>\n",
       "      <td>25</td>\n",
       "      <td>3</td>\n",
       "      <td>1.0</td>\n",
       "      <td>2</td>\n",
       "      <td>4</td>\n",
       "      <td>1</td>\n",
       "      <td>0</td>\n",
       "      <td>0</td>\n",
       "      <td>1</td>\n",
       "    </tr>\n",
       "    <tr>\n",
       "      <th>986</th>\n",
       "      <td>896</td>\n",
       "      <td>36</td>\n",
       "      <td>3</td>\n",
       "      <td>5</td>\n",
       "      <td>8947</td>\n",
       "      <td>1</td>\n",
       "      <td>NaN</td>\n",
       "      <td>3</td>\n",
       "      <td>4</td>\n",
       "      <td>3</td>\n",
       "      <td>2.0</td>\n",
       "      <td>31</td>\n",
       "      <td>2</td>\n",
       "      <td>1.0</td>\n",
       "      <td>1</td>\n",
       "      <td>1</td>\n",
       "      <td>2</td>\n",
       "      <td>1</td>\n",
       "      <td>0</td>\n",
       "      <td>1</td>\n",
       "    </tr>\n",
       "    <tr>\n",
       "      <th>987</th>\n",
       "      <td>199</td>\n",
       "      <td>24</td>\n",
       "      <td>2</td>\n",
       "      <td>5</td>\n",
       "      <td>2760</td>\n",
       "      <td>1</td>\n",
       "      <td>NaN</td>\n",
       "      <td>4</td>\n",
       "      <td>4</td>\n",
       "      <td>3</td>\n",
       "      <td>4.0</td>\n",
       "      <td>36</td>\n",
       "      <td>1</td>\n",
       "      <td>NaN</td>\n",
       "      <td>1</td>\n",
       "      <td>4</td>\n",
       "      <td>1</td>\n",
       "      <td>1</td>\n",
       "      <td>0</td>\n",
       "      <td>1</td>\n",
       "    </tr>\n",
       "    <tr>\n",
       "      <th>992</th>\n",
       "      <td>45</td>\n",
       "      <td>48</td>\n",
       "      <td>1</td>\n",
       "      <td>5</td>\n",
       "      <td>6143</td>\n",
       "      <td>2</td>\n",
       "      <td>NaN</td>\n",
       "      <td>4</td>\n",
       "      <td>1</td>\n",
       "      <td>3</td>\n",
       "      <td>4.0</td>\n",
       "      <td>58</td>\n",
       "      <td>2</td>\n",
       "      <td>2.0</td>\n",
       "      <td>2</td>\n",
       "      <td>999</td>\n",
       "      <td>1</td>\n",
       "      <td>0</td>\n",
       "      <td>0</td>\n",
       "      <td>0</td>\n",
       "    </tr>\n",
       "    <tr>\n",
       "      <th>993</th>\n",
       "      <td>95</td>\n",
       "      <td>12</td>\n",
       "      <td>2</td>\n",
       "      <td>4</td>\n",
       "      <td>1318</td>\n",
       "      <td>4</td>\n",
       "      <td>NaN</td>\n",
       "      <td>4</td>\n",
       "      <td>4</td>\n",
       "      <td>3</td>\n",
       "      <td>4.0</td>\n",
       "      <td>54</td>\n",
       "      <td>3</td>\n",
       "      <td>1.0</td>\n",
       "      <td>1</td>\n",
       "      <td>999</td>\n",
       "      <td>1</td>\n",
       "      <td>1</td>\n",
       "      <td>0</td>\n",
       "      <td>1</td>\n",
       "    </tr>\n",
       "  </tbody>\n",
       "</table>\n",
       "</div>"
      ],
      "text/plain": [
       "     IDCREDITO  Duracao  HistoricoCredito  Proposito  Valor  Investimentos  \\\n",
       "64           1        6                 0          1   1169              1   \n",
       "134         78       11                 3          1   4771              2   \n",
       "201        145       21                 1          3   2288              2   \n",
       "983        960       24                 2          3   3069              5   \n",
       "984         56        6                 5          4    783              1   \n",
       "985        270       24                 2          1    999              1   \n",
       "986        896       36                 3          5   8947              1   \n",
       "987        199       24                 2          5   2760              1   \n",
       "992         45       48                 1          5   6143              2   \n",
       "993         95       12                 2          4   1318              4   \n",
       "\n",
       "     Emprego  TempoParcelamento  EstadoCivil  FiadorTerceiros  \\\n",
       "64       NaN                  4            4                3   \n",
       "134      NaN                  2            4                3   \n",
       "201      NaN                  4            1                3   \n",
       "983      NaN                  4            4                3   \n",
       "984      NaN                  1            4                4   \n",
       "985      NaN                  4            4                3   \n",
       "986      NaN                  3            4                3   \n",
       "987      NaN                  4            4                3   \n",
       "992      NaN                  4            1                3   \n",
       "993      NaN                  4            4                3   \n",
       "\n",
       "     ResidenciaDesde  Idade  OutrosFinanciamentos  Habitacao  \\\n",
       "64               4.0     67                     3        1.0   \n",
       "134              4.0     51                     3        1.0   \n",
       "201              4.0     23                     3        NaN   \n",
       "983              NaN     30                     3        2.0   \n",
       "984              2.0     26                     2        1.0   \n",
       "985              2.0     25                     3        1.0   \n",
       "986              2.0     31                     2        1.0   \n",
       "987              4.0     36                     1        NaN   \n",
       "992              4.0     58                     2        2.0   \n",
       "993              4.0     54                     3        1.0   \n",
       "\n",
       "     EmprestimoExistente  Profissao  Dependentes  SocioEmpresa  Estrangeiro  \\\n",
       "64                     2          4            1             1            0   \n",
       "134                    1          4            1             0            0   \n",
       "201                    1          4            1             1            0   \n",
       "983                    1          4            1             0            0   \n",
       "984                    1          3            2             0            0   \n",
       "985                    2          4            1             0            0   \n",
       "986                    1          1            2             1            0   \n",
       "987                    1          4            1             1            0   \n",
       "992                    2        999            1             0            0   \n",
       "993                    1        999            1             1            0   \n",
       "\n",
       "     Status  \n",
       "64        1  \n",
       "134       1  \n",
       "201       1  \n",
       "983       1  \n",
       "984       1  \n",
       "985       1  \n",
       "986       1  \n",
       "987       1  \n",
       "992       0  \n",
       "993       1  "
      ]
     },
     "execution_count": 140,
     "metadata": {},
     "output_type": "execute_result"
    }
   ],
   "source": [
    "dados.loc[dados['Emprego'].isna()]"
   ]
  },
  {
   "cell_type": "code",
   "execution_count": 141,
   "id": "d8ab25e1",
   "metadata": {},
   "outputs": [],
   "source": [
    "# Substituicao NaNs de Emprego pela moda\n",
    "moda = float(dados['Emprego'].mode())\n",
    "\n",
    "dados['Emprego'].fillna(moda, inplace=True)"
   ]
  },
  {
   "cell_type": "code",
   "execution_count": 142,
   "id": "dc4a4b2a",
   "metadata": {},
   "outputs": [
    {
     "data": {
      "text/plain": [
       "3.0    348\n",
       "2.0    247\n",
       "4.0    172\n",
       "1.0    171\n",
       "5.0     62\n",
       "Name: Emprego, dtype: int64"
      ]
     },
     "execution_count": 142,
     "metadata": {},
     "output_type": "execute_result"
    }
   ],
   "source": [
    "dados['Emprego'].value_counts(dropna=False)"
   ]
  },
  {
   "cell_type": "code",
   "execution_count": 143,
   "id": "484d6cd8",
   "metadata": {},
   "outputs": [
    {
     "data": {
      "text/plain": [
       "4.0    416\n",
       "2.0    308\n",
       "3.0    147\n",
       "1.0    129\n",
       "Name: ResidenciaDesde, dtype: int64"
      ]
     },
     "execution_count": 143,
     "metadata": {},
     "output_type": "execute_result"
    }
   ],
   "source": [
    "# Substituicao NaNs de Residencia pela moda\n",
    "moda = float(dados['ResidenciaDesde'].mode())\n",
    "\n",
    "dados['ResidenciaDesde'].fillna(moda, inplace=True)\n",
    "\n",
    "dados['ResidenciaDesde'].value_counts(dropna=False)"
   ]
  },
  {
   "cell_type": "code",
   "execution_count": 144,
   "id": "612d2fa4",
   "metadata": {},
   "outputs": [
    {
     "data": {
      "text/plain": [
       "1.0    718\n",
       "3.0    175\n",
       "2.0    107\n",
       "Name: Habitacao, dtype: int64"
      ]
     },
     "execution_count": 144,
     "metadata": {},
     "output_type": "execute_result"
    }
   ],
   "source": [
    "# Substituicao NaNs de Habitacao pela moda\n",
    "moda = float(dados['Habitacao'].mode())\n",
    "\n",
    "dados['Habitacao'].fillna(moda, inplace=True)\n",
    "\n",
    "dados['Habitacao'].value_counts(dropna=False)"
   ]
  },
  {
   "cell_type": "code",
   "execution_count": 145,
   "id": "1bacb713",
   "metadata": {},
   "outputs": [
    {
     "data": {
      "text/plain": [
       "4    634\n",
       "3    197\n",
       "1    147\n",
       "2     22\n",
       "Name: Profissao, dtype: int64"
      ]
     },
     "execution_count": 145,
     "metadata": {},
     "output_type": "execute_result"
    }
   ],
   "source": [
    "# Profissao 999 será setada para 4, pois é um item padrão de profissão\n",
    "dados['Profissao'].replace(999, 4, inplace=True)\n",
    "dados['Profissao'].value_counts(dropna=False)"
   ]
  },
  {
   "cell_type": "markdown",
   "id": "786b02cf",
   "metadata": {},
   "source": [
    "#### Pré processamento para construcao do modelo"
   ]
  },
  {
   "cell_type": "code",
   "execution_count": 146,
   "id": "5b660f8b",
   "metadata": {},
   "outputs": [],
   "source": [
    "# Separacao de previsores e da classe\n",
    "previsores = dados.iloc[:,0:17].values\n",
    "classe = dados.iloc[:,17].values"
   ]
  },
  {
   "cell_type": "code",
   "execution_count": 147,
   "id": "18eb011d",
   "metadata": {},
   "outputs": [],
   "source": [
    "# Dividindo dados em treino e teste\n",
    "xTreino, xTeste, yTreino, yTeste = train_test_split(previsores,\n",
    "                                                    classe,\n",
    "                                                    test_size=0.3,\n",
    "                                                    random_state=0)"
   ]
  },
  {
   "cell_type": "markdown",
   "id": "b7cfafa8",
   "metadata": {},
   "source": [
    "#### Método: Naive Bayes"
   ]
  },
  {
   "cell_type": "code",
   "execution_count": 148,
   "id": "5d4df66a",
   "metadata": {},
   "outputs": [
    {
     "data": {
      "text/plain": [
       "GaussianNB()"
      ]
     },
     "execution_count": 148,
     "metadata": {},
     "output_type": "execute_result"
    }
   ],
   "source": [
    "# Classificacao com Naive Bayes\n",
    "naive_bayes = GaussianNB()\n",
    "naive_bayes.fit(xTreino, yTreino)"
   ]
  },
  {
   "cell_type": "code",
   "execution_count": 149,
   "id": "d7d836d8",
   "metadata": {},
   "outputs": [],
   "source": [
    "previsoes = naive_bayes.predict(xTeste)"
   ]
  },
  {
   "cell_type": "code",
   "execution_count": 150,
   "id": "88f56451",
   "metadata": {},
   "outputs": [
    {
     "data": {
      "text/plain": [
       "array([[140,  23],\n",
       "       [ 74,  63]], dtype=int64)"
      ]
     },
     "execution_count": 150,
     "metadata": {},
     "output_type": "execute_result"
    }
   ],
   "source": [
    "confusao = confusion_matrix(yTeste, previsoes)\n",
    "confusao"
   ]
  },
  {
   "cell_type": "code",
   "execution_count": 151,
   "id": "ace46207",
   "metadata": {},
   "outputs": [
    {
     "name": "stdout",
     "output_type": "stream",
     "text": [
      "Acurácia do modelo: 67.67%\n"
     ]
    }
   ],
   "source": [
    "taxa_acerto = accuracy_score(yTeste, previsoes)\n",
    "print(\"Acurácia do modelo: {:.2f}%\".format(taxa_acerto * 100))"
   ]
  },
  {
   "cell_type": "code",
   "execution_count": 152,
   "id": "e9c0bd8a",
   "metadata": {},
   "outputs": [
    {
     "data": {
      "image/png": "[encoded data removed]",
      "text/plain": [
       "<Figure size 800x550 with 1 Axes>"
      ]
     },
     "metadata": {},
     "output_type": "display_data"
    },
    {
     "data": {
      "text/plain": [
       "<AxesSubplot:title={'center':'GaussianNB Confusion Matrix'}, xlabel='Predicted Class', ylabel='True Class'>"
      ]
     },
     "execution_count": 152,
     "metadata": {},
     "output_type": "execute_result"
    }
   ],
   "source": [
    "v = ConfusionMatrix(GaussianNB())\n",
    "v.fit(xTreino, yTreino)\n",
    "v.score(xTeste, yTeste)\n",
    "v.poof()"
   ]
  },
  {
   "cell_type": "markdown",
   "id": "36c2eb30",
   "metadata": {},
   "source": [
    "#### Método: Regressão Logística"
   ]
  },
  {
   "cell_type": "code",
   "execution_count": 153,
   "id": "e73cf11a",
   "metadata": {},
   "outputs": [],
   "source": [
    "from sklearn.linear_model import LogisticRegression"
   ]
  },
  {
   "cell_type": "code",
   "execution_count": 154,
   "id": "994fa212",
   "metadata": {},
   "outputs": [
    {
     "name": "stderr",
     "output_type": "stream",
     "text": [
      "C:\\Users\\luanp\\anaconda3\\lib\\site-packages\\sklearn\\linear_model\\_logistic.py:814: ConvergenceWarning: lbfgs failed to converge (status=1):\n",
      "STOP: TOTAL NO. of ITERATIONS REACHED LIMIT.\n",
      "\n",
      "Increase the number of iterations (max_iter) or scale the data as shown in:\n",
      "    https://scikit-learn.org/stable/modules/preprocessing.html\n",
      "Please also refer to the documentation for alternative solver options:\n",
      "    https://scikit-learn.org/stable/modules/linear_model.html#logistic-regression\n",
      "  n_iter_i = _check_optimize_result(\n"
     ]
    },
    {
     "data": {
      "text/plain": [
       "LogisticRegression()"
      ]
     },
     "execution_count": 154,
     "metadata": {},
     "output_type": "execute_result"
    }
   ],
   "source": [
    "model = LogisticRegression()\n",
    "model.fit(xTreino, yTreino)"
   ]
  },
  {
   "cell_type": "code",
   "execution_count": 155,
   "id": "67c33a88",
   "metadata": {},
   "outputs": [],
   "source": [
    "y_pred = model.predict(xTeste)"
   ]
  },
  {
   "cell_type": "code",
   "execution_count": 156,
   "id": "4f30520f",
   "metadata": {},
   "outputs": [
    {
     "name": "stdout",
     "output_type": "stream",
     "text": [
      "Taxa de acerto: 67.33%\n"
     ]
    }
   ],
   "source": [
    "taxa_acerto = accuracy_score(yTeste, y_pred)\n",
    "print(\"Taxa de acerto: {:.2f}%\".format(taxa_acerto * 100))"
   ]
  },
  {
   "cell_type": "code",
   "execution_count": 157,
   "id": "7496ec79",
   "metadata": {},
   "outputs": [
    {
     "data": {
      "text/plain": [
       "array([[146,  17],\n",
       "       [ 81,  56]], dtype=int64)"
      ]
     },
     "execution_count": 157,
     "metadata": {},
     "output_type": "execute_result"
    }
   ],
   "source": [
    "confusao = confusion_matrix(yTeste, y_pred)\n",
    "confusao"
   ]
  },
  {
   "cell_type": "code",
   "execution_count": 158,
   "id": "68016796",
   "metadata": {},
   "outputs": [
    {
     "name": "stderr",
     "output_type": "stream",
     "text": [
      "C:\\Users\\luanp\\anaconda3\\lib\\site-packages\\sklearn\\linear_model\\_logistic.py:814: ConvergenceWarning: lbfgs failed to converge (status=1):\n",
      "STOP: TOTAL NO. of ITERATIONS REACHED LIMIT.\n",
      "\n",
      "Increase the number of iterations (max_iter) or scale the data as shown in:\n",
      "    https://scikit-learn.org/stable/modules/preprocessing.html\n",
      "Please also refer to the documentation for alternative solver options:\n",
      "    https://scikit-learn.org/stable/modules/linear_model.html#logistic-regression\n",
      "  n_iter_i = _check_optimize_result(\n"
     ]
    },
    {
     "data": {
      "image/png": "[encoded data removed]",
      "text/plain": [
       "<Figure size 800x550 with 1 Axes>"
      ]
     },
     "metadata": {},
     "output_type": "display_data"
    },
    {
     "data": {
      "text/plain": [
       "<AxesSubplot:title={'center':'LogisticRegression Confusion Matrix'}, xlabel='Predicted Class', ylabel='True Class'>"
      ]
     },
     "execution_count": 158,
     "metadata": {},
     "output_type": "execute_result"
    }
   ],
   "source": [
    "v = ConfusionMatrix(LogisticRegression())\n",
    "v.fit(xTreino, yTreino)\n",
    "v.score(xTeste, yTeste)\n",
    "v.poof()"
   ]
  },
  {
   "cell_type": "markdown",
   "id": "cd674982",
   "metadata": {},
   "source": [
    "#### Método: SVM"
   ]
  },
  {
   "cell_type": "code",
   "execution_count": 159,
   "id": "5ea4721f",
   "metadata": {},
   "outputs": [],
   "source": [
    "from sklearn.svm import SVC"
   ]
  },
  {
   "cell_type": "code",
   "execution_count": 160,
   "id": "e8c404e5",
   "metadata": {},
   "outputs": [
    {
     "data": {
      "text/plain": [
       "SVC()"
      ]
     },
     "execution_count": 160,
     "metadata": {},
     "output_type": "execute_result"
    }
   ],
   "source": [
    "modelo = SVC()\n",
    "modelo.fit(xTreino, yTreino)"
   ]
  },
  {
   "cell_type": "code",
   "execution_count": 161,
   "id": "2dce16da",
   "metadata": {},
   "outputs": [],
   "source": [
    "previsao = modelo.predict(xTeste)"
   ]
  },
  {
   "cell_type": "code",
   "execution_count": 162,
   "id": "9915c871",
   "metadata": {},
   "outputs": [
    {
     "data": {
      "text/plain": [
       "array([[145,  18],\n",
       "       [102,  35]], dtype=int64)"
      ]
     },
     "execution_count": 162,
     "metadata": {},
     "output_type": "execute_result"
    }
   ],
   "source": [
    "confusao = confusion_matrix(yTeste, previsao)\n",
    "confusao"
   ]
  },
  {
   "cell_type": "code",
   "execution_count": 163,
   "id": "578d77ef",
   "metadata": {},
   "outputs": [
    {
     "data": {
      "image/png": "[encoded data removed]",
      "text/plain": [
       "<Figure size 800x550 with 1 Axes>"
      ]
     },
     "metadata": {},
     "output_type": "display_data"
    },
    {
     "data": {
      "text/plain": [
       "<AxesSubplot:title={'center':'SVC Confusion Matrix'}, xlabel='Predicted Class', ylabel='True Class'>"
      ]
     },
     "execution_count": 163,
     "metadata": {},
     "output_type": "execute_result"
    }
   ],
   "source": [
    "v = ConfusionMatrix(SVC())\n",
    "v.fit(xTreino, yTreino)\n",
    "v.score(xTeste, yTeste)\n",
    "v.poof()"
   ]
  },
  {
   "cell_type": "code",
   "execution_count": 164,
   "id": "c0df4d36",
   "metadata": {},
   "outputs": [
    {
     "name": "stdout",
     "output_type": "stream",
     "text": [
      "Acurácia do modelo: 60.00%\n"
     ]
    }
   ],
   "source": [
    "taxa_acerto = accuracy_score(yTeste, previsao)\n",
    "print(\"Acurácia do modelo: {:.2f}%\".format(taxa_acerto * 100))"
   ]
  },
  {
   "cell_type": "markdown",
   "id": "a3448ef8",
   "metadata": {},
   "source": [
    "#### Método: Perceptron Multi Camada"
   ]
  },
  {
   "cell_type": "code",
   "execution_count": 165,
   "id": "31eda5a0",
   "metadata": {},
   "outputs": [],
   "source": [
    "from sklearn.preprocessing import StandardScaler\n",
    "from sklearn.decomposition import PCA\n",
    "import tensorflow as tf\n",
    "from tensorflow import keras\n",
    "from tensorflow.keras import layers"
   ]
  },
  {
   "cell_type": "code",
   "execution_count": 166,
   "id": "7a217d90",
   "metadata": {},
   "outputs": [
    {
     "name": "stdout",
     "output_type": "stream",
     "text": [
      "Epoch 1/100\n",
      "22/22 [==============================] - 1s 2ms/step - loss: 38.9472 - accuracy: 0.5257\n",
      "Epoch 2/100\n",
      "22/22 [==============================] - 0s 2ms/step - loss: 10.0013 - accuracy: 0.5100\n",
      "Epoch 3/100\n",
      "22/22 [==============================] - 0s 2ms/step - loss: 6.0935 - accuracy: 0.5271\n",
      "Epoch 4/100\n",
      "22/22 [==============================] - 0s 2ms/step - loss: 4.8894 - accuracy: 0.5886\n",
      "Epoch 5/100\n",
      "22/22 [==============================] - 0s 2ms/step - loss: 4.5021 - accuracy: 0.5543\n",
      "Epoch 6/100\n",
      "22/22 [==============================] - 0s 2ms/step - loss: 2.2763 - accuracy: 0.5400\n",
      "Epoch 7/100\n",
      "22/22 [==============================] - 0s 3ms/step - loss: 2.5605 - accuracy: 0.5900\n",
      "Epoch 8/100\n",
      "22/22 [==============================] - 0s 2ms/step - loss: 2.0306 - accuracy: 0.5643\n",
      "Epoch 9/100\n",
      "22/22 [==============================] - 0s 3ms/step - loss: 2.2661 - accuracy: 0.5643\n",
      "Epoch 10/100\n",
      "22/22 [==============================] - 0s 2ms/step - loss: 1.8920 - accuracy: 0.5714\n",
      "Epoch 11/100\n",
      "22/22 [==============================] - 0s 2ms/step - loss: 3.1328 - accuracy: 0.5671\n",
      "Epoch 12/100\n",
      "22/22 [==============================] - 0s 2ms/step - loss: 2.0569 - accuracy: 0.5500\n",
      "Epoch 13/100\n",
      "22/22 [==============================] - 0s 2ms/step - loss: 3.4542 - accuracy: 0.5586\n",
      "Epoch 14/100\n",
      "22/22 [==============================] - 0s 2ms/step - loss: 1.5919 - accuracy: 0.5900\n",
      "Epoch 15/100\n",
      "22/22 [==============================] - 0s 3ms/step - loss: 1.1580 - accuracy: 0.5971\n",
      "Epoch 16/100\n",
      "22/22 [==============================] - 0s 3ms/step - loss: 1.5583 - accuracy: 0.5643\n",
      "Epoch 17/100\n",
      "22/22 [==============================] - 0s 2ms/step - loss: 1.8926 - accuracy: 0.5786\n",
      "Epoch 18/100\n",
      "22/22 [==============================] - 0s 2ms/step - loss: 1.9069 - accuracy: 0.5900\n",
      "Epoch 19/100\n",
      "22/22 [==============================] - 0s 2ms/step - loss: 1.5080 - accuracy: 0.5700\n",
      "Epoch 20/100\n",
      "22/22 [==============================] - 0s 2ms/step - loss: 2.4543 - accuracy: 0.5686\n",
      "Epoch 21/100\n",
      "22/22 [==============================] - 0s 2ms/step - loss: 1.5738 - accuracy: 0.5757\n",
      "Epoch 22/100\n",
      "22/22 [==============================] - 0s 2ms/step - loss: 0.9822 - accuracy: 0.6071\n",
      "Epoch 23/100\n",
      "22/22 [==============================] - 0s 2ms/step - loss: 1.2816 - accuracy: 0.5871\n",
      "Epoch 24/100\n",
      "22/22 [==============================] - 0s 2ms/step - loss: 1.7450 - accuracy: 0.5700\n",
      "Epoch 25/100\n",
      "22/22 [==============================] - 0s 2ms/step - loss: 1.1130 - accuracy: 0.6000\n",
      "Epoch 26/100\n",
      "22/22 [==============================] - 0s 2ms/step - loss: 1.0004 - accuracy: 0.6071\n",
      "Epoch 27/100\n",
      "22/22 [==============================] - 0s 2ms/step - loss: 0.9509 - accuracy: 0.6143\n",
      "Epoch 28/100\n",
      "22/22 [==============================] - 0s 2ms/step - loss: 1.1526 - accuracy: 0.5657\n",
      "Epoch 29/100\n",
      "22/22 [==============================] - 0s 2ms/step - loss: 1.6002 - accuracy: 0.5829\n",
      "Epoch 30/100\n",
      "22/22 [==============================] - 0s 2ms/step - loss: 1.4896 - accuracy: 0.5957\n",
      "Epoch 31/100\n",
      "22/22 [==============================] - 0s 2ms/step - loss: 3.4613 - accuracy: 0.5443\n",
      "Epoch 32/100\n",
      "22/22 [==============================] - 0s 2ms/step - loss: 1.5653 - accuracy: 0.5571\n",
      "Epoch 33/100\n",
      "22/22 [==============================] - 0s 2ms/step - loss: 1.1388 - accuracy: 0.5986\n",
      "Epoch 34/100\n",
      "22/22 [==============================] - 0s 2ms/step - loss: 1.0982 - accuracy: 0.6114\n",
      "Epoch 35/100\n",
      "22/22 [==============================] - 0s 2ms/step - loss: 1.1067 - accuracy: 0.6329\n",
      "Epoch 36/100\n",
      "22/22 [==============================] - 0s 2ms/step - loss: 4.2953 - accuracy: 0.5457\n",
      "Epoch 37/100\n",
      "22/22 [==============================] - 0s 2ms/step - loss: 2.3577 - accuracy: 0.6100\n",
      "Epoch 38/100\n",
      "22/22 [==============================] - 0s 2ms/step - loss: 1.6875 - accuracy: 0.5986\n",
      "Epoch 39/100\n",
      "22/22 [==============================] - 0s 2ms/step - loss: 1.1552 - accuracy: 0.5986\n",
      "Epoch 40/100\n",
      "22/22 [==============================] - 0s 2ms/step - loss: 3.2617 - accuracy: 0.5143\n",
      "Epoch 41/100\n",
      "22/22 [==============================] - 0s 2ms/step - loss: 2.7630 - accuracy: 0.5414\n",
      "Epoch 42/100\n",
      "22/22 [==============================] - 0s 2ms/step - loss: 1.6635 - accuracy: 0.6071\n",
      "Epoch 43/100\n",
      "22/22 [==============================] - 0s 2ms/step - loss: 1.5592 - accuracy: 0.5843\n",
      "Epoch 44/100\n",
      "22/22 [==============================] - 0s 2ms/step - loss: 1.5656 - accuracy: 0.6286\n",
      "Epoch 45/100\n",
      "22/22 [==============================] - 0s 2ms/step - loss: 1.1390 - accuracy: 0.6114\n",
      "Epoch 46/100\n",
      "22/22 [==============================] - 0s 2ms/step - loss: 0.8711 - accuracy: 0.6400\n",
      "Epoch 47/100\n",
      "22/22 [==============================] - 0s 2ms/step - loss: 0.9011 - accuracy: 0.6214\n",
      "Epoch 48/100\n",
      "22/22 [==============================] - 0s 2ms/step - loss: 2.2150 - accuracy: 0.5800\n",
      "Epoch 49/100\n",
      "22/22 [==============================] - 0s 2ms/step - loss: 1.7345 - accuracy: 0.5900\n",
      "Epoch 50/100\n",
      "22/22 [==============================] - 0s 2ms/step - loss: 1.9728 - accuracy: 0.6100\n",
      "Epoch 51/100\n",
      "22/22 [==============================] - 0s 2ms/step - loss: 2.0714 - accuracy: 0.5757\n",
      "Epoch 52/100\n",
      "22/22 [==============================] - 0s 2ms/step - loss: 1.9443 - accuracy: 0.5643\n",
      "Epoch 53/100\n",
      "22/22 [==============================] - 0s 2ms/step - loss: 1.8053 - accuracy: 0.5971\n",
      "Epoch 54/100\n",
      "22/22 [==============================] - 0s 2ms/step - loss: 1.5182 - accuracy: 0.6200\n",
      "Epoch 55/100\n",
      "22/22 [==============================] - 0s 2ms/step - loss: 1.0777 - accuracy: 0.6214\n",
      "Epoch 56/100\n",
      "22/22 [==============================] - 0s 2ms/step - loss: 1.2892 - accuracy: 0.6057\n",
      "Epoch 57/100\n",
      "22/22 [==============================] - 0s 2ms/step - loss: 1.3259 - accuracy: 0.6200\n",
      "Epoch 58/100\n",
      "22/22 [==============================] - 0s 2ms/step - loss: 3.4617 - accuracy: 0.5729\n",
      "Epoch 59/100\n",
      "22/22 [==============================] - 0s 2ms/step - loss: 2.3099 - accuracy: 0.6114\n",
      "Epoch 60/100\n",
      "22/22 [==============================] - 0s 2ms/step - loss: 1.9729 - accuracy: 0.5686\n",
      "Epoch 61/100\n",
      "22/22 [==============================] - 0s 2ms/step - loss: 1.2218 - accuracy: 0.6171\n",
      "Epoch 62/100\n",
      "22/22 [==============================] - 0s 2ms/step - loss: 0.9313 - accuracy: 0.6343\n",
      "Epoch 63/100\n",
      "22/22 [==============================] - 0s 2ms/step - loss: 2.2145 - accuracy: 0.5871\n",
      "Epoch 64/100\n",
      "22/22 [==============================] - 0s 2ms/step - loss: 1.9709 - accuracy: 0.5714\n",
      "Epoch 65/100\n",
      "22/22 [==============================] - 0s 2ms/step - loss: 3.7890 - accuracy: 0.5500\n",
      "Epoch 66/100\n",
      "22/22 [==============================] - 0s 2ms/step - loss: 1.2985 - accuracy: 0.5986\n",
      "Epoch 67/100\n",
      "22/22 [==============================] - 0s 2ms/step - loss: 1.1885 - accuracy: 0.6357\n",
      "Epoch 68/100\n",
      "22/22 [==============================] - 0s 2ms/step - loss: 2.1366 - accuracy: 0.5914\n",
      "Epoch 69/100\n",
      "22/22 [==============================] - 0s 2ms/step - loss: 1.3036 - accuracy: 0.6086\n",
      "Epoch 70/100\n",
      "22/22 [==============================] - 0s 3ms/step - loss: 1.2666 - accuracy: 0.6229\n",
      "Epoch 71/100\n",
      "22/22 [==============================] - 0s 2ms/step - loss: 3.1440 - accuracy: 0.5614\n",
      "Epoch 72/100\n",
      "22/22 [==============================] - 0s 2ms/step - loss: 1.7896 - accuracy: 0.6029\n",
      "Epoch 73/100\n",
      "22/22 [==============================] - 0s 2ms/step - loss: 2.3979 - accuracy: 0.5957\n",
      "Epoch 74/100\n",
      "22/22 [==============================] - 0s 2ms/step - loss: 1.3385 - accuracy: 0.5986\n",
      "Epoch 75/100\n",
      "22/22 [==============================] - 0s 2ms/step - loss: 0.7952 - accuracy: 0.6343\n",
      "Epoch 76/100\n",
      "22/22 [==============================] - 0s 2ms/step - loss: 2.9996 - accuracy: 0.5957\n",
      "Epoch 77/100\n",
      "22/22 [==============================] - 0s 2ms/step - loss: 1.5826 - accuracy: 0.6029\n",
      "Epoch 78/100\n",
      "22/22 [==============================] - 0s 3ms/step - loss: 0.9629 - accuracy: 0.6129\n",
      "Epoch 79/100\n",
      "22/22 [==============================] - 0s 2ms/step - loss: 1.9321 - accuracy: 0.5929\n",
      "Epoch 80/100\n",
      "22/22 [==============================] - 0s 2ms/step - loss: 1.4766 - accuracy: 0.5971\n",
      "Epoch 81/100\n",
      "22/22 [==============================] - 0s 2ms/step - loss: 1.1183 - accuracy: 0.6100\n",
      "Epoch 82/100\n",
      "22/22 [==============================] - 0s 2ms/step - loss: 2.1404 - accuracy: 0.5729\n",
      "Epoch 83/100\n",
      "22/22 [==============================] - 0s 2ms/step - loss: 1.1531 - accuracy: 0.6014\n",
      "Epoch 84/100\n",
      "22/22 [==============================] - 0s 2ms/step - loss: 1.5012 - accuracy: 0.5943\n",
      "Epoch 85/100\n",
      "22/22 [==============================] - 0s 2ms/step - loss: 1.9545 - accuracy: 0.6129\n",
      "Epoch 86/100\n",
      "22/22 [==============================] - 0s 2ms/step - loss: 1.2145 - accuracy: 0.6114\n",
      "Epoch 87/100\n",
      "22/22 [==============================] - 0s 2ms/step - loss: 0.7586 - accuracy: 0.6643\n",
      "Epoch 88/100\n",
      "22/22 [==============================] - 0s 2ms/step - loss: 0.8802 - accuracy: 0.6343\n",
      "Epoch 89/100\n",
      "22/22 [==============================] - 0s 2ms/step - loss: 1.7895 - accuracy: 0.5929\n",
      "Epoch 90/100\n",
      "22/22 [==============================] - 0s 2ms/step - loss: 1.4162 - accuracy: 0.6129\n",
      "Epoch 91/100\n",
      "22/22 [==============================] - 0s 2ms/step - loss: 1.2357 - accuracy: 0.6500\n",
      "Epoch 92/100\n",
      "22/22 [==============================] - 0s 2ms/step - loss: 1.7345 - accuracy: 0.5814\n",
      "Epoch 93/100\n",
      "22/22 [==============================] - 0s 2ms/step - loss: 0.9969 - accuracy: 0.6271\n",
      "Epoch 94/100\n",
      "22/22 [==============================] - 0s 2ms/step - loss: 3.4700 - accuracy: 0.5614\n",
      "Epoch 95/100\n",
      "22/22 [==============================] - 0s 2ms/step - loss: 1.4806 - accuracy: 0.6243\n",
      "Epoch 96/100\n",
      "22/22 [==============================] - 0s 2ms/step - loss: 1.0044 - accuracy: 0.6286\n",
      "Epoch 97/100\n",
      "22/22 [==============================] - 0s 2ms/step - loss: 1.0867 - accuracy: 0.6214\n",
      "Epoch 98/100\n",
      "22/22 [==============================] - 0s 2ms/step - loss: 2.2578 - accuracy: 0.5614\n",
      "Epoch 99/100\n",
      "22/22 [==============================] - 0s 2ms/step - loss: 1.0037 - accuracy: 0.6243\n",
      "Epoch 100/100\n",
      "22/22 [==============================] - 0s 2ms/step - loss: 0.9932 - accuracy: 0.6029\n"
     ]
    },
    {
     "data": {
      "text/plain": [
       "<keras.callbacks.History at 0x1424e3f4e80>"
      ]
     },
     "execution_count": 166,
     "metadata": {},
     "output_type": "execute_result"
    }
   ],
   "source": [
    "modelo = keras.Sequential([\n",
    "    layers.Dense(64, activation='relu', input_shape=(xTreino.shape[1],)),\n",
    "    layers.Dense(32, activation='relu'),\n",
    "    layers.Dense(1, activation='sigmoid')\n",
    "])\n",
    "\n",
    "modelo.compile(optimizer='adam', loss='binary_crossentropy', metrics=['accuracy'])\n",
    "\n",
    "modelo.fit(xTreino, yTreino, epochs=100, batch_size=32)"
   ]
  },
  {
   "cell_type": "code",
   "execution_count": 167,
   "id": "d09b2891",
   "metadata": {},
   "outputs": [
    {
     "name": "stdout",
     "output_type": "stream",
     "text": [
      "10/10 [==============================] - 0s 2ms/step - loss: 2.1651 - accuracy: 0.5733\n",
      "Taxa de acerto: 57.33 %\n"
     ]
    }
   ],
   "source": [
    "perda, taxa_acerto = modelo.evaluate(xTeste, yTeste)\n",
    "print(f\"Taxa de acerto: {100*taxa_acerto:.2f}\" \" %\")"
   ]
  },
  {
   "cell_type": "code",
   "execution_count": 168,
   "id": "c11bf633",
   "metadata": {},
   "outputs": [
    {
     "name": "stdout",
     "output_type": "stream",
     "text": [
      "10/10 [==============================] - 0s 2ms/step\n"
     ]
    }
   ],
   "source": [
    "predicao = modelo.predict(xTeste)\n",
    "predicao = np.round(predicao).astype(int)"
   ]
  },
  {
   "cell_type": "code",
   "execution_count": 169,
   "id": "a9a225a2",
   "metadata": {},
   "outputs": [
    {
     "name": "stdout",
     "output_type": "stream",
     "text": [
      "Matriz de Confusão:\n",
      "[[ 53 110]\n",
      " [ 18 119]]\n"
     ]
    }
   ],
   "source": [
    "conf_matrix = confusion_matrix(yTeste, predicao)\n",
    "print(\"Matriz de Confusão:\")\n",
    "print(conf_matrix)"
   ]
  },
  {
   "cell_type": "markdown",
   "id": "13e0c751",
   "metadata": {},
   "source": [
    "#### Método: PCA [2 componentes principais] + Perceptron Multi Camada"
   ]
  },
  {
   "cell_type": "code",
   "execution_count": 170,
   "id": "3ce76094",
   "metadata": {},
   "outputs": [],
   "source": [
    "# Padronizacao de dados média zero e std 1\n",
    "norm = StandardScaler()\n",
    "xNorm = scaler.fit_transform(previsores)"
   ]
  },
  {
   "cell_type": "code",
   "execution_count": 171,
   "id": "44ae5e89",
   "metadata": {},
   "outputs": [],
   "source": [
    "pca = PCA(n_components=10)\n",
    "X_pca = pca.fit_transform(xNorm)"
   ]
  },
  {
   "cell_type": "code",
   "execution_count": 172,
   "id": "2cfe4414",
   "metadata": {},
   "outputs": [
    {
     "data": {
      "image/png": "[encoded data removed]",
      "text/plain": [
       "<Figure size 800x600 with 2 Axes>"
      ]
     },
     "metadata": {},
     "output_type": "display_data"
    }
   ],
   "source": [
    "plt.figure(figsize=(8, 6))\n",
    "plt.scatter(X_pca[:, 0], X_pca[:, 1], c=classe, cmap='viridis', edgecolor='k')\n",
    "plt.xlabel('Componente Principal 1')\n",
    "plt.ylabel('Componente Principal 2')\n",
    "plt.title('Gráfico de Dispersão da PCA')\n",
    "plt.colorbar(label='Classe')\n",
    "plt.show()"
   ]
  },
  {
   "cell_type": "code",
   "execution_count": 173,
   "id": "20075cc6",
   "metadata": {},
   "outputs": [
    {
     "name": "stdout",
     "output_type": "stream",
     "text": [
      "Percentual de variância explicada por cada componente principal:\n",
      "[0.11778847 0.09586942 0.07867367 0.07500748 0.06814622 0.0638725\n",
      " 0.06123794 0.0586681  0.05722509 0.05585636]\n"
     ]
    }
   ],
   "source": [
    "variance_explained = pca.explained_variance_ratio_\n",
    "print(\"Percentual de variância explicada por cada componente principal:\")\n",
    "print(variance_explained)"
   ]
  },
  {
   "cell_type": "code",
   "execution_count": 174,
   "id": "d584d01f",
   "metadata": {},
   "outputs": [],
   "source": [
    "# Dividindo dados em treino e teste, novamente, agora informacoes da PCA\n",
    "xTreino, xTeste, yTreino, yTeste = train_test_split(X_pca,\n",
    "                                                    classe,\n",
    "                                                    test_size=0.3,\n",
    "                                                    random_state=0)"
   ]
  },
  {
   "cell_type": "code",
   "execution_count": 175,
   "id": "f8e8e801",
   "metadata": {},
   "outputs": [],
   "source": [
    "# Rede neural perceptron multicamada\n",
    "modelo = keras.Sequential([\n",
    "    layers.Dense(64, activation='relu', input_shape=(xTreino.shape[1],)),\n",
    "    layers.Dense(32, activation='relu'),\n",
    "    layers.Dense(1, activation='sigmoid')\n",
    "])"
   ]
  },
  {
   "cell_type": "code",
   "execution_count": 176,
   "id": "7c30dbac",
   "metadata": {},
   "outputs": [],
   "source": [
    "modelo.compile(optimizer='adam', loss='binary_crossentropy', metrics=['accuracy'])"
   ]
  },
  {
   "cell_type": "code",
   "execution_count": 177,
   "id": "077af060",
   "metadata": {},
   "outputs": [
    {
     "name": "stdout",
     "output_type": "stream",
     "text": [
      "Epoch 1/100\n",
      "22/22 [==============================] - 1s 2ms/step - loss: 0.6381 - accuracy: 0.6557\n",
      "Epoch 2/100\n",
      "22/22 [==============================] - 0s 2ms/step - loss: 0.6063 - accuracy: 0.6743\n",
      "Epoch 3/100\n",
      "22/22 [==============================] - 0s 2ms/step - loss: 0.5931 - accuracy: 0.6914\n",
      "Epoch 4/100\n",
      "22/22 [==============================] - 0s 2ms/step - loss: 0.5829 - accuracy: 0.7029\n",
      "Epoch 5/100\n",
      "22/22 [==============================] - 0s 2ms/step - loss: 0.5756 - accuracy: 0.7043\n",
      "Epoch 6/100\n",
      "22/22 [==============================] - 0s 2ms/step - loss: 0.5705 - accuracy: 0.7129\n",
      "Epoch 7/100\n",
      "22/22 [==============================] - 0s 2ms/step - loss: 0.5643 - accuracy: 0.7129\n",
      "Epoch 8/100\n",
      "22/22 [==============================] - 0s 2ms/step - loss: 0.5588 - accuracy: 0.7129\n",
      "Epoch 9/100\n",
      "22/22 [==============================] - 0s 2ms/step - loss: 0.5532 - accuracy: 0.7186\n",
      "Epoch 10/100\n",
      "22/22 [==============================] - 0s 2ms/step - loss: 0.5493 - accuracy: 0.7286\n",
      "Epoch 11/100\n",
      "22/22 [==============================] - 0s 2ms/step - loss: 0.5438 - accuracy: 0.7214\n",
      "Epoch 12/100\n",
      "22/22 [==============================] - 0s 2ms/step - loss: 0.5394 - accuracy: 0.7343\n",
      "Epoch 13/100\n",
      "22/22 [==============================] - 0s 2ms/step - loss: 0.5358 - accuracy: 0.7257\n",
      "Epoch 14/100\n",
      "22/22 [==============================] - 0s 2ms/step - loss: 0.5305 - accuracy: 0.7414\n",
      "Epoch 15/100\n",
      "22/22 [==============================] - 0s 2ms/step - loss: 0.5279 - accuracy: 0.7443\n",
      "Epoch 16/100\n",
      "22/22 [==============================] - 0s 2ms/step - loss: 0.5229 - accuracy: 0.7443\n",
      "Epoch 17/100\n",
      "22/22 [==============================] - 0s 2ms/step - loss: 0.5185 - accuracy: 0.7529\n",
      "Epoch 18/100\n",
      "22/22 [==============================] - 0s 2ms/step - loss: 0.5132 - accuracy: 0.7471\n",
      "Epoch 19/100\n",
      "22/22 [==============================] - 0s 2ms/step - loss: 0.5102 - accuracy: 0.7500\n",
      "Epoch 20/100\n",
      "22/22 [==============================] - 0s 2ms/step - loss: 0.5040 - accuracy: 0.7614\n",
      "Epoch 21/100\n",
      "22/22 [==============================] - 0s 2ms/step - loss: 0.5009 - accuracy: 0.7671\n",
      "Epoch 22/100\n",
      "22/22 [==============================] - 0s 2ms/step - loss: 0.4974 - accuracy: 0.7600\n",
      "Epoch 23/100\n",
      "22/22 [==============================] - 0s 2ms/step - loss: 0.4928 - accuracy: 0.7700\n",
      "Epoch 24/100\n",
      "22/22 [==============================] - 0s 2ms/step - loss: 0.4885 - accuracy: 0.7771\n",
      "Epoch 25/100\n",
      "22/22 [==============================] - 0s 2ms/step - loss: 0.4845 - accuracy: 0.7786\n",
      "Epoch 26/100\n",
      "22/22 [==============================] - 0s 2ms/step - loss: 0.4797 - accuracy: 0.7900\n",
      "Epoch 27/100\n",
      "22/22 [==============================] - 0s 2ms/step - loss: 0.4750 - accuracy: 0.7914\n",
      "Epoch 28/100\n",
      "22/22 [==============================] - 0s 2ms/step - loss: 0.4700 - accuracy: 0.7843\n",
      "Epoch 29/100\n",
      "22/22 [==============================] - 0s 2ms/step - loss: 0.4648 - accuracy: 0.8029\n",
      "Epoch 30/100\n",
      "22/22 [==============================] - 0s 2ms/step - loss: 0.4632 - accuracy: 0.8029\n",
      "Epoch 31/100\n",
      "22/22 [==============================] - 0s 2ms/step - loss: 0.4583 - accuracy: 0.7971\n",
      "Epoch 32/100\n",
      "22/22 [==============================] - 0s 2ms/step - loss: 0.4533 - accuracy: 0.8043\n",
      "Epoch 33/100\n",
      "22/22 [==============================] - 0s 2ms/step - loss: 0.4474 - accuracy: 0.8214\n",
      "Epoch 34/100\n",
      "22/22 [==============================] - 0s 2ms/step - loss: 0.4439 - accuracy: 0.8143\n",
      "Epoch 35/100\n",
      "22/22 [==============================] - 0s 2ms/step - loss: 0.4386 - accuracy: 0.8257\n",
      "Epoch 36/100\n",
      "22/22 [==============================] - 0s 2ms/step - loss: 0.4338 - accuracy: 0.8229\n",
      "Epoch 37/100\n",
      "22/22 [==============================] - 0s 2ms/step - loss: 0.4299 - accuracy: 0.8243\n",
      "Epoch 38/100\n",
      "22/22 [==============================] - 0s 2ms/step - loss: 0.4282 - accuracy: 0.8157\n",
      "Epoch 39/100\n",
      "22/22 [==============================] - 0s 2ms/step - loss: 0.4211 - accuracy: 0.8214\n",
      "Epoch 40/100\n",
      "22/22 [==============================] - 0s 2ms/step - loss: 0.4182 - accuracy: 0.8371\n",
      "Epoch 41/100\n",
      "22/22 [==============================] - 0s 2ms/step - loss: 0.4111 - accuracy: 0.8243\n",
      "Epoch 42/100\n",
      "22/22 [==============================] - 0s 2ms/step - loss: 0.4090 - accuracy: 0.8357\n",
      "Epoch 43/100\n",
      "22/22 [==============================] - 0s 2ms/step - loss: 0.4049 - accuracy: 0.8371\n",
      "Epoch 44/100\n",
      "22/22 [==============================] - 0s 2ms/step - loss: 0.3973 - accuracy: 0.8400\n",
      "Epoch 45/100\n",
      "22/22 [==============================] - 0s 2ms/step - loss: 0.3928 - accuracy: 0.8486\n",
      "Epoch 46/100\n",
      "22/22 [==============================] - 0s 3ms/step - loss: 0.3890 - accuracy: 0.8443\n",
      "Epoch 47/100\n",
      "22/22 [==============================] - 0s 2ms/step - loss: 0.3873 - accuracy: 0.8443\n",
      "Epoch 48/100\n",
      "22/22 [==============================] - 0s 2ms/step - loss: 0.3858 - accuracy: 0.8529\n",
      "Epoch 49/100\n",
      "22/22 [==============================] - 0s 2ms/step - loss: 0.3761 - accuracy: 0.8586\n",
      "Epoch 50/100\n",
      "22/22 [==============================] - 0s 2ms/step - loss: 0.3693 - accuracy: 0.8629\n",
      "Epoch 51/100\n",
      "22/22 [==============================] - 0s 2ms/step - loss: 0.3665 - accuracy: 0.8629\n",
      "Epoch 52/100\n",
      "22/22 [==============================] - 0s 2ms/step - loss: 0.3628 - accuracy: 0.8586\n",
      "Epoch 53/100\n",
      "22/22 [==============================] - 0s 2ms/step - loss: 0.3597 - accuracy: 0.8643\n",
      "Epoch 54/100\n",
      "22/22 [==============================] - 0s 2ms/step - loss: 0.3539 - accuracy: 0.8657\n",
      "Epoch 55/100\n",
      "22/22 [==============================] - 0s 2ms/step - loss: 0.3463 - accuracy: 0.8729\n",
      "Epoch 56/100\n",
      "22/22 [==============================] - 0s 2ms/step - loss: 0.3428 - accuracy: 0.8757\n",
      "Epoch 57/100\n",
      "22/22 [==============================] - 0s 2ms/step - loss: 0.3393 - accuracy: 0.8757\n",
      "Epoch 58/100\n",
      "22/22 [==============================] - 0s 2ms/step - loss: 0.3366 - accuracy: 0.8771\n",
      "Epoch 59/100\n",
      "22/22 [==============================] - 0s 2ms/step - loss: 0.3299 - accuracy: 0.8743\n",
      "Epoch 60/100\n",
      "22/22 [==============================] - 0s 2ms/step - loss: 0.3266 - accuracy: 0.8786\n",
      "Epoch 61/100\n",
      "22/22 [==============================] - 0s 2ms/step - loss: 0.3203 - accuracy: 0.8757\n",
      "Epoch 62/100\n",
      "22/22 [==============================] - 0s 2ms/step - loss: 0.3193 - accuracy: 0.8786\n",
      "Epoch 63/100\n",
      "22/22 [==============================] - 0s 2ms/step - loss: 0.3147 - accuracy: 0.8829\n",
      "Epoch 64/100\n",
      "22/22 [==============================] - 0s 2ms/step - loss: 0.3087 - accuracy: 0.8886\n",
      "Epoch 65/100\n",
      "22/22 [==============================] - 0s 2ms/step - loss: 0.3089 - accuracy: 0.8786\n",
      "Epoch 66/100\n",
      "22/22 [==============================] - 0s 2ms/step - loss: 0.3011 - accuracy: 0.8900\n",
      "Epoch 67/100\n",
      "22/22 [==============================] - 0s 2ms/step - loss: 0.2978 - accuracy: 0.8943\n",
      "Epoch 68/100\n",
      "22/22 [==============================] - 0s 2ms/step - loss: 0.2933 - accuracy: 0.8914\n",
      "Epoch 69/100\n",
      "22/22 [==============================] - 0s 2ms/step - loss: 0.2912 - accuracy: 0.8900\n",
      "Epoch 70/100\n",
      "22/22 [==============================] - 0s 2ms/step - loss: 0.2850 - accuracy: 0.9014\n",
      "Epoch 71/100\n",
      "22/22 [==============================] - 0s 2ms/step - loss: 0.2806 - accuracy: 0.9071\n",
      "Epoch 72/100\n",
      "22/22 [==============================] - 0s 2ms/step - loss: 0.2805 - accuracy: 0.8986\n",
      "Epoch 73/100\n",
      "22/22 [==============================] - 0s 2ms/step - loss: 0.2767 - accuracy: 0.9043\n",
      "Epoch 74/100\n",
      "22/22 [==============================] - 0s 2ms/step - loss: 0.2725 - accuracy: 0.9029\n",
      "Epoch 75/100\n",
      "22/22 [==============================] - 0s 2ms/step - loss: 0.2685 - accuracy: 0.9086\n",
      "Epoch 76/100\n",
      "22/22 [==============================] - 0s 2ms/step - loss: 0.2605 - accuracy: 0.9071\n",
      "Epoch 77/100\n",
      "22/22 [==============================] - 0s 2ms/step - loss: 0.2585 - accuracy: 0.9157\n",
      "Epoch 78/100\n",
      "22/22 [==============================] - 0s 2ms/step - loss: 0.2566 - accuracy: 0.9143\n",
      "Epoch 79/100\n",
      "22/22 [==============================] - 0s 2ms/step - loss: 0.2523 - accuracy: 0.9243\n",
      "Epoch 80/100\n",
      "22/22 [==============================] - 0s 2ms/step - loss: 0.2470 - accuracy: 0.9243\n",
      "Epoch 81/100\n",
      "22/22 [==============================] - 0s 2ms/step - loss: 0.2423 - accuracy: 0.9214\n",
      "Epoch 82/100\n",
      "22/22 [==============================] - 0s 2ms/step - loss: 0.2415 - accuracy: 0.9257\n",
      "Epoch 83/100\n",
      "22/22 [==============================] - 0s 2ms/step - loss: 0.2319 - accuracy: 0.9357\n",
      "Epoch 84/100\n",
      "22/22 [==============================] - 0s 2ms/step - loss: 0.2319 - accuracy: 0.9371\n",
      "Epoch 85/100\n",
      "22/22 [==============================] - 0s 2ms/step - loss: 0.2268 - accuracy: 0.9386\n",
      "Epoch 86/100\n",
      "22/22 [==============================] - 0s 2ms/step - loss: 0.2250 - accuracy: 0.9386\n",
      "Epoch 87/100\n",
      "22/22 [==============================] - 0s 2ms/step - loss: 0.2211 - accuracy: 0.9457\n",
      "Epoch 88/100\n",
      "22/22 [==============================] - 0s 2ms/step - loss: 0.2180 - accuracy: 0.9329\n",
      "Epoch 89/100\n",
      "22/22 [==============================] - 0s 2ms/step - loss: 0.2148 - accuracy: 0.9414\n",
      "Epoch 90/100\n",
      "22/22 [==============================] - 0s 2ms/step - loss: 0.2105 - accuracy: 0.9471\n",
      "Epoch 91/100\n",
      "22/22 [==============================] - 0s 2ms/step - loss: 0.2058 - accuracy: 0.9486\n",
      "Epoch 92/100\n",
      "22/22 [==============================] - 0s 2ms/step - loss: 0.2042 - accuracy: 0.9457\n",
      "Epoch 93/100\n",
      "22/22 [==============================] - 0s 2ms/step - loss: 0.2033 - accuracy: 0.9571\n",
      "Epoch 94/100\n",
      "22/22 [==============================] - 0s 2ms/step - loss: 0.1991 - accuracy: 0.9500\n",
      "Epoch 95/100\n",
      "22/22 [==============================] - 0s 2ms/step - loss: 0.1934 - accuracy: 0.9614\n",
      "Epoch 96/100\n",
      "22/22 [==============================] - 0s 2ms/step - loss: 0.1898 - accuracy: 0.9543\n",
      "Epoch 97/100\n",
      "22/22 [==============================] - 0s 2ms/step - loss: 0.1911 - accuracy: 0.9557\n",
      "Epoch 98/100\n",
      "22/22 [==============================] - 0s 2ms/step - loss: 0.1830 - accuracy: 0.9700\n",
      "Epoch 99/100\n",
      "22/22 [==============================] - 0s 2ms/step - loss: 0.1793 - accuracy: 0.9571\n",
      "Epoch 100/100\n",
      "22/22 [==============================] - 0s 2ms/step - loss: 0.1795 - accuracy: 0.9629\n"
     ]
    },
    {
     "data": {
      "text/plain": [
       "<keras.callbacks.History at 0x1424e825520>"
      ]
     },
     "execution_count": 177,
     "metadata": {},
     "output_type": "execute_result"
    }
   ],
   "source": [
    "modelo.fit(xTreino, yTreino, epochs=100, batch_size=32)"
   ]
  },
  {
   "cell_type": "code",
   "execution_count": 180,
   "id": "8730d279",
   "metadata": {},
   "outputs": [
    {
     "name": "stdout",
     "output_type": "stream",
     "text": [
      "10/10 [==============================] - 0s 2ms/step\n"
     ]
    }
   ],
   "source": [
    "predicao = modelo.predict(xTeste)\n",
    "predicao = np.round(predicao).astype(int)"
   ]
  },
  {
   "cell_type": "code",
   "execution_count": 181,
   "id": "ef11a1a1",
   "metadata": {},
   "outputs": [
    {
     "name": "stdout",
     "output_type": "stream",
     "text": [
      "Matriz de Confusão:\n",
      "[[119  44]\n",
      " [ 64  73]]\n"
     ]
    }
   ],
   "source": [
    "conf_matrix = confusion_matrix(yTeste, predicao)\n",
    "print(\"Matriz de Confusão:\")\n",
    "print(conf_matrix)"
   ]
  },
  {
   "cell_type": "code",
   "execution_count": 182,
   "id": "128b5b5f",
   "metadata": {},
   "outputs": [
    {
     "name": "stdout",
     "output_type": "stream",
     "text": [
      "10/10 [==============================] - 0s 2ms/step - loss: 0.8478 - accuracy: 0.6400\n",
      "Taxa de acerto: 64.00 %\n"
     ]
    }
   ],
   "source": [
    "perda, taxa_acerto = modelo.evaluate(xTeste, yTeste)\n",
    "print(f\"Taxa de acerto: {100*taxa_acerto:.2f}\" \" %\")"
   ]
  },
  {
   "cell_type": "code",
   "execution_count": null,
   "id": "1c4a4d21",
   "metadata": {},
   "outputs": [],
   "source": []
  }
 ],
 "metadata": {
  "kernelspec": {
   "display_name": "Python 3 (ipykernel)",
   "language": "python",
   "name": "python3"
  },
  "language_info": {
   "codemirror_mode": {
    "name": "ipython",
    "version": 3
   },
   "file_extension": ".py",
   "mimetype": "text/x-python",
   "name": "python",
   "nbconvert_exporter": "python",
   "pygments_lexer": "ipython3",
   "version": "3.9.13"
  }
 },
 "nbformat": 4,
 "nbformat_minor": 5
}
